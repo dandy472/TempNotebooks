{
 "cells": [
  {
   "cell_type": "code",
   "execution_count": 41,
   "id": "f07d9c76",
   "metadata": {},
   "outputs": [
    {
     "name": "stdout",
     "output_type": "stream",
     "text": [
      "4\n"
     ]
    }
   ],
   "source": [
    "def find_gcd(x, y):\n",
    "    while(y):\n",
    "        x, y = y, x % y\n",
    " \n",
    "    return x\n",
    "     \n",
    "     \n",
    "l = [4]\n",
    " \n",
    "num1=l[0]\n",
    "num2=l[1]\n",
    "gcd=math.gcd(num1,num2)\n",
    " \n",
    "for i in range(2,len(l)):\n",
    "    gcd=math.gcd(gcd,l[i])\n",
    "     \n",
    "print(gcd)"
   ]
  },
  {
   "cell_type": "code",
   "execution_count": 33,
   "id": "e4a280ad",
   "metadata": {},
   "outputs": [
    {
     "data": {
      "text/plain": [
       "['\"a\"',\n",
       " '\"a\"',\n",
       " '\"a\"',\n",
       " '\"b\"',\n",
       " '\"b\"',\n",
       " '\"b\"',\n",
       " '\"b\"',\n",
       " '\"c\"',\n",
       " '\"c\"',\n",
       " '\"c\"',\n",
       " '\"c\"',\n",
       " '\"c\"']"
      ]
     },
     "execution_count": 33,
     "metadata": {},
     "output_type": "execute_result"
    }
   ],
   "source": [
    "import fileinput\n",
    "import json\n",
    "import math\n",
    "\n",
    "def get_friend(x):\n",
    "    res = set(x)\n",
    "    ar_res=list(res)\n",
    "    aa=[0]*len(ar_res)\n",
    "    for i in range(len(x)):\n",
    "        for j in range(len(ar_res)):\n",
    "            if x[i]==ar_res[j]:\n",
    "                aa[j]=aa[j]+1\n",
    "                break\n",
    "    if len(aa)==1:\n",
    "        return 1\n",
    "    else:\n",
    "        result=math.gcd(aa[0],aa[1])\n",
    "        for i in range (2,len(aa)):\n",
    "            result=math.gcd(result,aa[i])\n",
    "        return result\n",
    "\n",
    "for line in fileinput.input():\n",
    "    candies = json.loads(line)\n",
    "    print(get_friend(candies))"
   ]
  }
 ],
 "metadata": {
  "kernelspec": {
   "display_name": "Python 3 (ipykernel)",
   "language": "python",
   "name": "python3"
  },
  "language_info": {
   "codemirror_mode": {
    "name": "ipython",
    "version": 3
   },
   "file_extension": ".py",
   "mimetype": "text/x-python",
   "name": "python",
   "nbconvert_exporter": "python",
   "pygments_lexer": "ipython3",
   "version": "3.10.9"
  }
 },
 "nbformat": 4,
 "nbformat_minor": 5
}
